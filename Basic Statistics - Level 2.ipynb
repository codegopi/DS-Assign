{
 "cells": [
  {
   "cell_type": "code",
   "execution_count": 1,
   "id": "bf32eaf7",
   "metadata": {},
   "outputs": [],
   "source": [
    "from scipy import stats\n",
    "import numpy as np"
   ]
  },
  {
   "cell_type": "code",
   "execution_count": 8,
   "id": "b8c66a4b",
   "metadata": {},
   "outputs": [
    {
     "data": {
      "text/plain": [
       "0.2676"
      ]
     },
     "execution_count": 8,
     "metadata": {},
     "output_type": "execute_result"
    }
   ],
   "source": [
    "#Set 2 -> q1\n",
    "# the time will reduce to 50 mins from 1 hour as it is taken after 10 mins of delay\n",
    "z = round((50-45)/8,2)\n",
    "# since we need to find the probability of delaying, we need to subtract 1 as cdf will give probability of less than the time\n",
    "round(1 - stats.norm.cdf(z),4)"
   ]
  },
  {
   "cell_type": "code",
   "execution_count": 12,
   "id": "ec7ad0f0",
   "metadata": {},
   "outputs": [
    {
     "data": {
      "text/plain": [
       "0.1587"
      ]
     },
     "execution_count": 12,
     "metadata": {},
     "output_type": "execute_result"
    }
   ],
   "source": [
    "# Q2 A\n",
    "round(1 - stats.norm.cdf(44,38,6),4)"
   ]
  },
  {
   "cell_type": "code",
   "execution_count": 16,
   "id": "783c42ac",
   "metadata": {},
   "outputs": [
    {
     "data": {
      "text/plain": [
       "(48.48341392902199, 151.516586070978)"
      ]
     },
     "execution_count": 16,
     "metadata": {},
     "output_type": "execute_result"
    }
   ],
   "source": [
    "#Q4\n",
    "stats.norm.interval(0.99, 100, 20)"
   ]
  },
  {
   "cell_type": "code",
   "execution_count": 13,
   "id": "2624e20c",
   "metadata": {},
   "outputs": [
    {
     "name": "stdout",
     "output_type": "stream",
     "text": [
      "Rupee range of the profit is  -4117.01 and 5197.01\n"
     ]
    }
   ],
   "source": [
    "#Q5 \n",
    "# Rupee range\n",
    "# the company \n",
    "mean = 12\n",
    "# the company standard deviation \n",
    "std = np.sqrt(32**2 + 42**2)\n",
    "dollar_range = stats.norm.interval(0.95,mean,std)\n",
    "print(\"Rupee range of the profit is \", round(dollar_range[0] * 45,2), \"and\", round(dollar_range[1] * 45,2))"
   ]
  },
  {
   "cell_type": "code",
   "execution_count": 16,
   "id": "a4c1ae9c",
   "metadata": {},
   "outputs": [
    {
     "name": "stdout",
     "output_type": "stream",
     "text": [
      "fifth percentaile is 434.39696974044733\n"
     ]
    }
   ],
   "source": [
    "# Q5 (B)\n",
    "# z for 5th percentaile is 1.64\n",
    "fifth = 12*45 - std*2\n",
    "print(\"fifth percentaile is\", fifth)"
   ]
  },
  {
   "cell_type": "code",
   "execution_count": null,
   "id": "88ba73b5",
   "metadata": {},
   "outputs": [],
   "source": [
    "stats.t.ppf"
   ]
  }
 ],
 "metadata": {
  "kernelspec": {
   "display_name": "Python 3 (ipykernel)",
   "language": "python",
   "name": "python3"
  },
  "language_info": {
   "codemirror_mode": {
    "name": "ipython",
    "version": 3
   },
   "file_extension": ".py",
   "mimetype": "text/x-python",
   "name": "python",
   "nbconvert_exporter": "python",
   "pygments_lexer": "ipython3",
   "version": "3.9.7"
  }
 },
 "nbformat": 4,
 "nbformat_minor": 5
}
